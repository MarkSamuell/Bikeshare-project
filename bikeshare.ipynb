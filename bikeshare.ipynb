{
 "cells": [
  {
   "cell_type": "code",
   "execution_count": 1,
   "metadata": {},
   "outputs": [
    {
     "name": "stdout",
     "output_type": "stream",
     "text": [
      "Hello! Let's explore some US bikeshare data!\n",
      "To view the available bikeshare data, kindly choose\n",
      " -Chicago\n",
      " -New York City\n",
      " -Washington\n",
      "chicago\n",
      "\n",
      "\n",
      "To filter Chicago's data by a particular month, please type the month name or all for not filtering by month: \n",
      "-January\n",
      "-February\n",
      "-March\n",
      "-April\n",
      "-May\n",
      "-June\n",
      "-All\n",
      "\n",
      ":all\n",
      "\n",
      "\n",
      "To filter Chicago's data by a particular day, please type the day name or all for not filtering by day: \n",
      "-Sunday\n",
      "-Monday\n",
      "-Tuesday\n",
      "-Wednesday\n",
      "-Thursday\n",
      "-Friday\n",
      "-Saturday\n",
      "-All\n",
      "\n",
      ":all\n",
      "----------------------------------------\n"
     ]
    }
}
